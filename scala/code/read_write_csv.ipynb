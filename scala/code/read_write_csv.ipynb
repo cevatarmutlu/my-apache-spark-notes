{
 "cells": [
  {
   "cell_type": "code",
   "execution_count": 4,
   "metadata": {},
   "outputs": [
    {
     "data": {
      "text/plain": [
       "import org.apache.spark.sql.{DataFrame, SparkSession}\n",
       "spark: org.apache.spark.sql.SparkSession = org.apache.spark.sql.SparkSession@4a29372b\n"
      ]
     },
     "execution_count": 4,
     "metadata": {},
     "output_type": "execute_result"
    }
   ],
   "source": [
    "// Spark Session başlatılır\n",
    "\n",
    "import org.apache.spark.sql.{DataFrame, SparkSession}\n",
    "\n",
    "val spark: SparkSession = SparkSession\n",
    "      .builder()\n",
    "      .appName(\"Read and Write operations with CSV files\")\n",
    "      .master(\"local\")\n",
    "      .getOrCreate()\n",
    "\n",
    "spark.sparkContext.setLogLevel(\"ERROR\")"
   ]
  },
  {
   "cell_type": "code",
   "execution_count": 7,
   "metadata": {},
   "outputs": [
    {
     "data": {
      "text/plain": [
       "base_path: String = /home/cevat/workspace/apache-spark-notlarim/scala/projects/read_write_csv/src/csv\n"
      ]
     },
     "execution_count": 7,
     "metadata": {},
     "output_type": "execute_result"
    }
   ],
   "source": [
    "val base_path: String = \"/home/cevat/workspace/apache-spark-notlarim/scala/projects/read_write_csv/src/csv\""
   ]
  },
  {
   "cell_type": "code",
   "execution_count": 8,
   "metadata": {},
   "outputs": [
    {
     "name": "stdout",
     "output_type": "stream",
     "text": [
      "+-------+----------+---+---------+-------+\n",
      "|    _c0|       _c1|_c2|      _c3|    _c4|\n",
      "+-------+----------+---+---------+-------+\n",
      "|   name|   surname|age|     city|country|\n",
      "|  Cevat|   Armutlu| 26| Istanbul| Turkey|\n",
      "|   John|      Eric| 56| New York|America|\n",
      "|Natalia|Khrushchev|  6|Moskovitz|Russiaa|\n",
      "+-------+----------+---+---------+-------+\n",
      "\n"
     ]
    },
    {
     "data": {
      "text/plain": [
       "single_csv_path: String = /home/cevat/workspace/apache-spark-notlarim/scala/projects/read_write_csv/src/csv/test1.csv\n",
       "first_csv_df: org.apache.spark.sql.DataFrame = [_c0: string, _c1: string ... 3 more fields]\n"
      ]
     },
     "execution_count": 8,
     "metadata": {},
     "output_type": "execute_result"
    }
   ],
   "source": [
    "// Read Single CSV\n",
    "val single_csv_path: String = base_path + \"/test1.csv\"\n",
    "val first_csv_df: DataFrame = spark.read.csv(path = single_csv_path)\n",
    "first_csv_df.show()"
   ]
  },
  {
   "cell_type": "code",
   "execution_count": 9,
   "metadata": {},
   "outputs": [
    {
     "name": "stdout",
     "output_type": "stream",
     "text": [
      "+--------------------+\n",
      "|                 _c0|\n",
      "+--------------------+\n",
      "|del1;del2;del3;de...|\n",
      "|delcol1;delcol1;d...|\n",
      "|delcol1;delcol1;d...|\n",
      "|                name|\n",
      "|               Cevat|\n",
      "|                John|\n",
      "|             Natalia|\n",
      "|               col11|\n",
      "|               test1|\n",
      "|               test1|\n",
      "|               test1|\n",
      "|                col1|\n",
      "|                  a1|\n",
      "|                  b1|\n",
      "|                  c1|\n",
      "+--------------------+\n",
      "\n"
     ]
    },
    {
     "data": {
      "text/plain": [
       "csv_folder: String = /home/cevat/workspace/apache-spark-notlarim/scala/projects/read_write_csv/src/csv\n",
       "read_csv_folder: org.apache.spark.sql.DataFrame = [_c0: string]\n"
      ]
     },
     "execution_count": 9,
     "metadata": {},
     "output_type": "execute_result"
    }
   ],
   "source": [
    "// Read Multiple CSV: Folder\n",
    "val csv_folder: String = base_path\n",
    "val read_csv_folder: DataFrame = spark.read.csv(path = csv_folder)\n",
    "// Herhangi bir okuma sırası var mı anlamadım. test4 dosyasını eklediğimde ilk onu okuyor. test4 base_path dizininde.\n",
    "// Sildiğimde ise test1' i ilk okuyor.\n",
    "read_csv_folder.show()"
   ]
  },
  {
   "cell_type": "code",
   "execution_count": 11,
   "metadata": {},
   "outputs": [
    {
     "name": "stdout",
     "output_type": "stream",
     "text": [
      "+--------------------+\n",
      "|                 _c0|\n",
      "+--------------------+\n",
      "|del1;del2;del3;de...|\n",
      "|delcol1;delcol1;d...|\n",
      "|delcol1;delcol1;d...|\n",
      "|                name|\n",
      "|               Cevat|\n",
      "|                John|\n",
      "|             Natalia|\n",
      "|                col1|\n",
      "|                  a1|\n",
      "|                  b1|\n",
      "|                  c1|\n",
      "+--------------------+\n",
      "\n"
     ]
    },
    {
     "data": {
      "text/plain": [
       "read_multi_files: org.apache.spark.sql.DataFrame = [_c0: string]\n"
      ]
     },
     "execution_count": 11,
     "metadata": {},
     "output_type": "execute_result"
    }
   ],
   "source": [
    "// Read Multiple CSV: Multiple paths\n",
    "val read_multi_files = spark.read.csv(base_path + \"/test2.csv\", base_path + \"/test4.csv\", base_path + \"/test1.csv\") // String* demek birden fazla String ifade girebilirsin demek\n",
    "// Folder okutmak gibi. Verileri yazdığın sıranın bir önemi yok.\n",
    "read_multi_files.show()"
   ]
  },
  {
   "cell_type": "code",
   "execution_count": 12,
   "metadata": {},
   "outputs": [
    {
     "name": "stdout",
     "output_type": "stream",
     "text": [
      "+-------+----------+---+---------+-------+\n",
      "|   name|   surname|age|     city|country|\n",
      "+-------+----------+---+---------+-------+\n",
      "|  Cevat|   Armutlu| 26| Istanbul| Turkey|\n",
      "|   John|      Eric| 56| New York|America|\n",
      "|Natalia|Khrushchev|  6|Moskovitz|Russiaa|\n",
      "+-------+----------+---+---------+-------+\n",
      "\n"
     ]
    },
    {
     "data": {
      "text/plain": [
       "read_csv_with_header: org.apache.spark.sql.DataFrame = [name: string, surname: string ... 3 more fields]\n"
      ]
     },
     "execution_count": 12,
     "metadata": {},
     "output_type": "execute_result"
    }
   ],
   "source": [
    "// Read CSV file with header: Single CSV file\n",
    "val read_csv_with_header: DataFrame = spark.read.option(\"header\", \"true\").csv(single_csv_path)\n",
    "// header: CSV okurken kullanılan option' lardan biri. Default: false\n",
    "// Okuma ve Yazma işlemlerinde geçerlidir ve CSV dosyasındaki ilk satırı header olarak alır.\n",
    "read_csv_with_header.show()"
   ]
  },
  {
   "cell_type": "code",
   "execution_count": 13,
   "metadata": {},
   "outputs": [
    {
     "name": "stdout",
     "output_type": "stream",
     "text": [
      "+----------------------------------+\n",
      "|del1;del2;del3;del4;del5;del6;del7|\n",
      "+----------------------------------+\n",
      "|              delcol1;delcol1;d...|\n",
      "|              delcol1;delcol1;d...|\n",
      "|                             Cevat|\n",
      "|                              John|\n",
      "|                           Natalia|\n",
      "|                             test1|\n",
      "|                             test1|\n",
      "|                             test1|\n",
      "|                                a1|\n",
      "|                                b1|\n",
      "|                                c1|\n",
      "+----------------------------------+\n",
      "\n"
     ]
    },
    {
     "data": {
      "text/plain": [
       "read_csv_folder_with_header: org.apache.spark.sql.DataFrame = [del1;del2;del3;del4;del5;del6;del7: string]\n"
      ]
     },
     "execution_count": 13,
     "metadata": {},
     "output_type": "execute_result"
    }
   ],
   "source": [
    "// Read CSV file with header: Multiple CSV file\n",
    "val read_csv_folder_with_header: DataFrame = spark.read.option(\"header\", \"true\").csv(path = csv_folder)\n",
    "read_csv_folder_with_header.show()\n",
    "// İlk okuduğu dosyanın ilk satırını header olarak aldı."
   ]
  },
  {
   "cell_type": "code",
   "execution_count": 14,
   "metadata": {},
   "outputs": [
    {
     "name": "stdout",
     "output_type": "stream",
     "text": [
      "+-------+-------+-------+-------+-------+-------+-------+\n",
      "|   del1|   del2|   del3|   del4|   del5|   del6|   del7|\n",
      "+-------+-------+-------+-------+-------+-------+-------+\n",
      "|delcol1|delcol1|delcol1|delcol1|delcol1|delcol1|delcol1|\n",
      "|delcol1|delcol1|delcol1|delcol1|delcol1|delcol1|delcol1|\n",
      "+-------+-------+-------+-------+-------+-------+-------+\n",
      "\n"
     ]
    },
    {
     "data": {
      "text/plain": [
       "read_csv_file_with_delimiter: org.apache.spark.sql.DataFrame = [del1: string, del2: string ... 5 more fields]\n"
      ]
     },
     "execution_count": 14,
     "metadata": {},
     "output_type": "execute_result"
    }
   ],
   "source": [
    "// Read CSV file with delimiter\n",
    "// delimiter option' ı ile CSV dosyasının kolonlarının hangi ifadeye göre ayrıldığını belirtebiliyoruz.\n",
    "// Default değeri `,`.\n",
    "// Eğer birden fazla karakter varsa onu da yazabiliyorsunuz.\n",
    "val read_csv_file_with_delimiter: DataFrame = spark\n",
    "    .read\n",
    "    .option(\"header\", \"true\")\n",
    "    .option(\"delimiter\", \";\")\n",
    "    .csv(base_path + \"/test4.csv\") //test4 dosyasında kolonlar `;` ile ayrılıyor.\n",
    "read_csv_file_with_delimiter.show()"
   ]
  },
  {
   "cell_type": "code",
   "execution_count": 16,
   "metadata": {},
   "outputs": [
    {
     "name": "stdout",
     "output_type": "stream",
     "text": [
      "+----------------------------------+\n",
      "|del1;del2;del3;del4;del5;del6;del7|\n",
      "+----------------------------------+\n",
      "|              delcol1;delcol1;d...|\n",
      "|              delcol1;delcol1;d...|\n",
      "+----------------------------------+\n",
      "\n"
     ]
    },
    {
     "data": {
      "text/plain": [
       "read_csv_file_with_delimiter: org.apache.spark.sql.DataFrame = [del1;del2;del3;del4;del5;del6;del7: string]\n"
      ]
     },
     "execution_count": 16,
     "metadata": {},
     "output_type": "execute_result"
    }
   ],
   "source": [
    "// Read CSV file with sep\n",
    "// sep ifade delimiter ile aynıdır.\n",
    "val read_csv_file_with_delimiter: DataFrame = spark\n",
    "    .read\n",
    "    .option(\"header\", \"true\")\n",
    "    .option(\"sep\", \";\")\n",
    "    .csv(base_path + \"/test4.csv\") //test4 dosyasında kolonlar `;` ile ayrılıyor.\n",
    "read_csv_file_with_delimiter.show()"
   ]
  }
 ],
 "metadata": {
  "kernelspec": {
   "display_name": "spylon-kernel",
   "language": "scala",
   "name": "spylon-kernel"
  },
  "language_info": {
   "codemirror_mode": "text/x-scala",
   "file_extension": ".scala",
   "help_links": [
    {
     "text": "MetaKernel Magics",
     "url": "https://metakernel.readthedocs.io/en/latest/source/README.html"
    }
   ],
   "mimetype": "text/x-scala",
   "name": "scala",
   "pygments_lexer": "scala",
   "version": "0.4.1"
  },
  "orig_nbformat": 4
 },
 "nbformat": 4,
 "nbformat_minor": 2
}
