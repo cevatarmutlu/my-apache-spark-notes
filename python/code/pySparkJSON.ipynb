{
 "cells": [
  {
   "cell_type": "code",
   "execution_count": 1,
   "id": "18bcba9a",
   "metadata": {},
   "outputs": [],
   "source": [
    "from pyspark.sql import SparkSession"
   ]
  },
  {
   "cell_type": "code",
   "execution_count": 2,
   "id": "67e75f5c",
   "metadata": {},
   "outputs": [],
   "source": [
    "# Bir tane Spark Oturumu başlatıyoruz.\n",
    "\n",
    "spark = SparkSession \\\n",
    "    .builder \\\n",
    "    .appName(\"Python Spark SQL basic example\") \\\n",
    "    .getOrCreate()"
   ]
  },
  {
   "cell_type": "code",
   "execution_count": 3,
   "id": "84ca547c",
   "metadata": {},
   "outputs": [
    {
     "name": "stdout",
     "output_type": "stream",
     "text": [
      "+------------+-----------+--------------------+-------------+--------+\n",
      "|     context|      event|           messageid|   properties|  userid|\n",
      "+------------+-----------+--------------------+-------------+--------+\n",
      "|   {desktop}|ProductView|6b1291ea-e50d-425...|{product-173}| user-78|\n",
      "|   {desktop}|ProductView|b8b14eb3-8e39-42a...|{product-230}| user-74|\n",
      "|{mobile-app}|ProductView|23db4f01-1576-415...| {product-38}|user-155|\n",
      "|{mobile-app}|ProductView|9a01da3e-d1ea-43d...| {product-42}|user-228|\n",
      "|   {desktop}|ProductView|b057f6a7-44f7-4f6...|{product-784}|user-346|\n",
      "|   {desktop}|ProductView|a592daa8-6d4d-488...| {product-51}| user-40|\n",
      "|{mobile-app}|ProductView|7d4deaaf-3af1-4c1...|{product-108}|user-132|\n",
      "|   {desktop}|ProductView|7b439339-40cb-4ab...|{product-567}|user-127|\n",
      "|{mobile-app}|ProductView|e45c4ede-d2ed-484...|{product-424}|user-391|\n",
      "|{mobile-web}|ProductView|a28682b3-2d36-4ac...|{product-245}|user-438|\n",
      "|{mobile-app}|ProductView|b264b022-1b0a-43d...|{product-137}| user-46|\n",
      "|{mobile-app}|ProductView|c002a71a-9750-460...|{product-393}|user-120|\n",
      "|   {desktop}|ProductView|104732b8-e5d0-4d8...|{product-466}| user-17|\n",
      "|   {desktop}|ProductView|7d79fd81-0663-4a4...|{product-583}|user-306|\n",
      "|   {desktop}|ProductView|6153d519-66cb-4de...|{product-948}|user-435|\n",
      "|{mobile-app}|ProductView|3fc12b56-17c8-4b4...| {product-38}| user-53|\n",
      "|   {desktop}|ProductView|02db085e-1a52-4fa...|{product-383}| user-25|\n",
      "|{mobile-web}|ProductView|11fe18c7-d863-4d8...|{product-426}|user-284|\n",
      "|   {desktop}|ProductView|cba88e63-feaa-404...|{product-369}| user-79|\n",
      "|{mobile-app}|ProductView|46ed143d-463c-437...|{product-209}| user-38|\n",
      "+------------+-----------+--------------------+-------------+--------+\n",
      "only showing top 20 rows\n",
      "\n"
     ]
    }
   ],
   "source": [
    "# JSON dosyasını okuyalım.\n",
    "json_path = '/home/sade/workspace/etl-with-pyspark/info/product-views.json'\n",
    "json_file = spark.read.json(json_path)\n",
    "json_file.show() # JSON dosyasını gösterelim."
   ]
  },
  {
   "cell_type": "code",
   "execution_count": 4,
   "id": "c2322a9f",
   "metadata": {},
   "outputs": [
    {
     "data": {
      "text/plain": [
       "pyspark.sql.dataframe.DataFrame"
      ]
     },
     "execution_count": 4,
     "metadata": {},
     "output_type": "execute_result"
    }
   ],
   "source": [
    "# JSON dosyasının tipi DF:\n",
    "type(json_file)"
   ]
  },
  {
   "cell_type": "code",
   "execution_count": 6,
   "id": "c7d0415c",
   "metadata": {},
   "outputs": [
    {
     "name": "stdout",
     "output_type": "stream",
     "text": [
      "+------+---------+\n",
      "|userid|productid|\n",
      "+------+---------+\n",
      "|    78|      173|\n",
      "|    74|      230|\n",
      "|   155|       38|\n",
      "|   228|       42|\n",
      "|   346|      784|\n",
      "|    40|       51|\n",
      "|   132|      108|\n",
      "|   127|      567|\n",
      "|   391|      424|\n",
      "|   438|      245|\n",
      "|    46|      137|\n",
      "|   120|      393|\n",
      "|    17|      466|\n",
      "|   306|      583|\n",
      "|   435|      948|\n",
      "|    53|       38|\n",
      "|    25|      383|\n",
      "|   284|      426|\n",
      "|    79|      369|\n",
      "|    38|      209|\n",
      "+------+---------+\n",
      "only showing top 20 rows\n",
      "\n"
     ]
    }
   ],
   "source": [
    "# JSON dosyası üzerinde işlemler yapalım. Arkaplanda ne oluyor tam olarak bilmiyorum.\n",
    "\n",
    "import pyspark.sql.functions as f\n",
    "\n",
    "split_user_id = f.split(json_file['userid'], '-')\n",
    "split_product_id = f.split(json_file[\"properties\"][\"productid\"], \"-\")\n",
    "\n",
    "result_df = json_file.select(\n",
    "    split_user_id.getItem(1).alias(\"userid\"),\n",
    "    split_product_id.getItem(1).alias(\"productid\")\n",
    ")\n",
    "\n",
    "result_df.show()"
   ]
  },
  {
   "cell_type": "code",
   "execution_count": 7,
   "id": "a760d7eb",
   "metadata": {},
   "outputs": [],
   "source": [
    "# JSON dosyası olarak çıktı elde edelim. Sadece JSON çıktısı verdiğini biliyorum.\n",
    "result_df.coalesce(1).write.json('/home/sade/workspace/etl-with-pyspark/info/spark_output')"
   ]
  }
 ],
 "metadata": {
  "kernelspec": {
   "display_name": "etlPySpark",
   "language": "python",
   "name": "etlpyspark"
  },
  "language_info": {
   "codemirror_mode": {
    "name": "ipython",
    "version": 3
   },
   "file_extension": ".py",
   "mimetype": "text/x-python",
   "name": "python",
   "nbconvert_exporter": "python",
   "pygments_lexer": "ipython3",
   "version": "3.8.5"
  }
 },
 "nbformat": 4,
 "nbformat_minor": 5
}
