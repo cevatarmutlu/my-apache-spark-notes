{
 "cells": [
  {
   "cell_type": "code",
   "execution_count": 1,
   "id": "a74ed528",
   "metadata": {},
   "outputs": [],
   "source": [
    "from pyspark.sql import SparkSession\n",
    "\n",
    "spark = SparkSession.builder\\\n",
    "      .getOrCreate()"
   ]
  },
  {
   "cell_type": "code",
   "execution_count": 12,
   "id": "68ffa221",
   "metadata": {},
   "outputs": [],
   "source": [
    "csv_path = \"/home/sade/workspace/apache-spark-notlarim/datasets/Video_Games_Sales_as_at_22_Dec_2016.csv\"\n",
    "\n",
    "csv = spark.read.load(\n",
    "    csv_path,\n",
    "    format='csv', \n",
    "    sep=\",\",\n",
    "    inferSchema=\"true\", \n",
    "    header=\"true\"\n",
    ")"
   ]
  },
  {
   "cell_type": "code",
   "execution_count": 16,
   "id": "6907e383",
   "metadata": {},
   "outputs": [
    {
     "data": {
      "text/plain": [
       "16719"
      ]
     },
     "execution_count": 16,
     "metadata": {},
     "output_type": "execute_result"
    }
   ],
   "source": [
    "csv.count()"
   ]
  },
  {
   "cell_type": "code",
   "execution_count": null,
   "id": "c2d54c87",
   "metadata": {},
   "outputs": [],
   "source": []
  }
 ],
 "metadata": {
  "kernelspec": {
   "display_name": "etlPySpark",
   "language": "python",
   "name": "etlpyspark"
  },
  "language_info": {
   "codemirror_mode": {
    "name": "ipython",
    "version": 3
   },
   "file_extension": ".py",
   "mimetype": "text/x-python",
   "name": "python",
   "nbconvert_exporter": "python",
   "pygments_lexer": "ipython3",
   "version": "3.8.5"
  }
 },
 "nbformat": 4,
 "nbformat_minor": 5
}
