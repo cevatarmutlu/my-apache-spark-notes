{
 "cells": [
  {
   "cell_type": "code",
   "execution_count": null,
   "id": "482ec013",
   "metadata": {},
   "outputs": [],
   "source": [
    "# Uzman olduğumdan değil ama okuduğum kaynaktan anladıklarımı buraya yazıyorum.\n",
    "# Kaynak: https://sparkbyexamples.com/pyspark-tutorial/#rdd\n",
    "\n",
    "\"\"\"\n",
    "    Nedir bu DataFrame? \n",
    "    \n",
    "    Spark' taki DataFrame' ın karşılığı olarak R/Python' daki DataFrame' leri gösteriyor lakin \n",
    "    onlardan daha zengin bir işleve sahip.\n",
    "    \n",
    "    Python ile uğraşmışsanız eğer Pandas DataFrame' ıni duymuşsunuzdur. PySpark DataFrame' ı de Pandas\n",
    "    DataFrame' ıne benzer lakin şöyle bir fark vardır ki PySpark DataFrame' inin sahip olduğu veriler\n",
    "    bir Cluster' daki farklı makinelerde depolanır. [Cluster ne demek bilmiyorum? \n",
    "    Sanırım birden fazla makinenin bağlanarak oluşturduğu yapıya cluster deniyor.]\n",
    "    \n",
    "    PySpark Pandastan daha mı hızlı?\n",
    "    \n",
    "    Pandas tek bir node (yani bilgisayar) üzerinde çalışır. Spark ise birden fazla makine üzerinde\n",
    "    çalıştığı için daha hızlıdır.\n",
    "    \n",
    "    Peki ya tek makine üzerinde çalışıyorsak hangisi daha hızlıdır?\n",
    "\"\"\"\n"
   ]
  },
  {
   "cell_type": "code",
   "execution_count": 3,
   "id": "74a2372d",
   "metadata": {},
   "outputs": [],
   "source": [
    "from pyspark.sql import SparkSession\n",
    "\n",
    "spark = SparkSession.builder\\\n",
    "      .getOrCreate()"
   ]
  },
  {
   "cell_type": "code",
   "execution_count": 11,
   "id": "599cff2e",
   "metadata": {},
   "outputs": [],
   "source": [
    "\"\"\" \n",
    "    Kısaca DataFrame oluşturma örneği:\n",
    "    \n",
    "    En kolay yolunun Python listesi olduğunu söylüyor. Farklı kaynaklardan da oluşturulabilir. Mesela JSON, CSV, \n",
    "    Text, DataFrame' ler, Kafka vs.\n",
    "\"\"\"\n",
    "\n",
    "data = [\n",
    "    ('James', '', 'Smith', '1991-04-01', 'M', 3000),\n",
    "    ('Michael', 'Rose', '', '2000-05-19', 'M', 4000),\n",
    "    ('Robert', '', 'Williams', '1978-09-05', 'M', 4000),\n",
    "    ('Maria', 'Anne', 'Jones', '1967-12-01', 'F', 4000),\n",
    "    ('Jen', 'Mary', 'Brown', '1980-02-17', 'F', -1)\n",
    "]\n",
    "\n",
    "columns = [\"firstname\",\"middlename\",\"lastname\",\"dob\",\"gender\",\"salary\"]\n",
    "df = spark.createDataFrame(data=data, schema = columns)"
   ]
  },
  {
   "cell_type": "code",
   "execution_count": 13,
   "id": "095e926c",
   "metadata": {},
   "outputs": [
    {
     "name": "stdout",
     "output_type": "stream",
     "text": [
      "root\n",
      " |-- firstname: string (nullable = true)\n",
      " |-- middlename: string (nullable = true)\n",
      " |-- lastname: string (nullable = true)\n",
      " |-- dob: string (nullable = true)\n",
      " |-- gender: string (nullable = true)\n",
      " |-- salary: long (nullable = true)\n",
      "\n"
     ]
    }
   ],
   "source": [
    "# DataFrame' ler isimler(names) ve kolon(colums) içeren yapılardır. DataFrame' in Schema' sını görmek için bu \n",
    "# fonksiyonu kullanabiliriz.\n",
    "# firstname mantıken kolon oluyor. firstname değerleri ise isimler(name) oluyor.\n",
    "df.printSchema()"
   ]
  },
  {
   "cell_type": "code",
   "execution_count": 14,
   "id": "7890d6f2",
   "metadata": {},
   "outputs": [
    {
     "name": "stdout",
     "output_type": "stream",
     "text": [
      "+---------+----------+--------+----------+------+------+\n",
      "|firstname|middlename|lastname|       dob|gender|salary|\n",
      "+---------+----------+--------+----------+------+------+\n",
      "|    James|          |   Smith|1991-04-01|     M|  3000|\n",
      "|  Michael|      Rose|        |2000-05-19|     M|  4000|\n",
      "|   Robert|          |Williams|1978-09-05|     M|  4000|\n",
      "|    Maria|      Anne|   Jones|1967-12-01|     F|  4000|\n",
      "|      Jen|      Mary|   Brown|1980-02-17|     F|    -1|\n",
      "+---------+----------+--------+----------+------+------+\n",
      "\n"
     ]
    }
   ],
   "source": [
    "# DataFrame' ı show etmiş oluyoruz. Eğer 20 taneden fazla satır varsa sadece 20 tanesini gösteriyor.\n",
    "df.show()"
   ]
  },
  {
   "cell_type": "code",
   "execution_count": 4,
   "id": "96893644",
   "metadata": {},
   "outputs": [
    {
     "name": "stdout",
     "output_type": "stream",
     "text": [
      "root\n",
      " |-- name: struct (nullable = true)\n",
      " |    |-- firstname: string (nullable = true)\n",
      " |    |-- middlename: string (nullable = true)\n",
      " |    |-- lastname: string (nullable = true)\n",
      " |-- languages: array (nullable = true)\n",
      " |    |-- element: string (containsNull = true)\n",
      " |-- state: string (nullable = true)\n",
      " |-- gender: string (nullable = true)\n",
      "\n",
      "+----------------------+------------------+-----+------+\n",
      "|name                  |languages         |state|gender|\n",
      "+----------------------+------------------+-----+------+\n",
      "|{James, , Smith}      |[Java, Scala, C++]|OH   |M     |\n",
      "|{Anna, Rose, }        |[Spark, Java, C++]|NY   |F     |\n",
      "|{Julia, , Williams}   |[CSharp, VB]      |OH   |F     |\n",
      "|{Maria, Anne, Jones}  |[CSharp, VB]      |NY   |M     |\n",
      "|{Jen, Mary, Brown}    |[CSharp, VB]      |NY   |M     |\n",
      "|{Mike, Mary, Williams}|[Python, VB]      |OH   |M     |\n",
      "+----------------------+------------------+-----+------+\n",
      "\n"
     ]
    }
   ],
   "source": [
    "# DataFrame filter\n",
    "\n",
    "# First Generate DataFrame\n",
    "\n",
    "from pyspark.sql.types import StructType, StructField \n",
    "from pyspark.sql.types import StringType, IntegerType, ArrayType\n",
    "data = [\n",
    "    ((\"James\",\"\",\"Smith\"),[\"Java\",\"Scala\",\"C++\"],\"OH\",\"M\"),\n",
    "    ((\"Anna\",\"Rose\",\"\"),[\"Spark\",\"Java\",\"C++\"],\"NY\",\"F\"),\n",
    "    ((\"Julia\",\"\",\"Williams\"),[\"CSharp\",\"VB\"],\"OH\",\"F\"),\n",
    "    ((\"Maria\",\"Anne\",\"Jones\"),[\"CSharp\",\"VB\"],\"NY\",\"M\"),\n",
    "    ((\"Jen\",\"Mary\",\"Brown\"),[\"CSharp\",\"VB\"],\"NY\",\"M\"),\n",
    "    ((\"Mike\",\"Mary\",\"Williams\"),[\"Python\",\"VB\"],\"OH\",\"M\")\n",
    " ]\n",
    "        \n",
    "schema = StructType([\n",
    "     StructField('name', StructType([\n",
    "        StructField('firstname', StringType(), True),\n",
    "        StructField('middlename', StringType(), True),\n",
    "         StructField('lastname', StringType(), True)\n",
    "     ])),\n",
    "     StructField('languages', ArrayType(StringType()), True),\n",
    "     StructField('state', StringType(), True),\n",
    "     StructField('gender', StringType(), True)\n",
    " ])\n",
    "\n",
    "df = spark.createDataFrame(data = data, schema = schema)\n",
    "df.printSchema()\n",
    "df.show(truncate=False)"
   ]
  },
  {
   "cell_type": "code",
   "execution_count": 23,
   "id": "498a8e08",
   "metadata": {},
   "outputs": [
    {
     "name": "stdout",
     "output_type": "stream",
     "text": [
      "+----------------------+------------------+-----+------+\n",
      "|name                  |languages         |state|gender|\n",
      "+----------------------+------------------+-----+------+\n",
      "|{James, , Smith}      |[Java, Scala, C++]|OH   |M     |\n",
      "|{Julia, , Williams}   |[CSharp, VB]      |OH   |F     |\n",
      "|{Mike, Mary, Williams}|[Python, VB]      |OH   |M     |\n",
      "+----------------------+------------------+-----+------+\n",
      "\n"
     ]
    }
   ],
   "source": [
    "# Filter fonksiyonu. Bu şekilde filter yapmak aklımda kalır.\n",
    "\n",
    "df.filter(df.state == 'OH').show(truncate=False)"
   ]
  },
  {
   "cell_type": "code",
   "execution_count": 19,
   "id": "5c1df7a5",
   "metadata": {},
   "outputs": [
    {
     "name": "stdout",
     "output_type": "stream",
     "text": [
      "+----------------------+------------------+-----+------+\n",
      "|name                  |languages         |state|gender|\n",
      "+----------------------+------------------+-----+------+\n",
      "|{James, , Smith}      |[Java, Scala, C++]|OH   |M     |\n",
      "|{Julia, , Williams}   |[CSharp, VB]      |OH   |F     |\n",
      "|{Mike, Mary, Williams}|[Python, VB]      |OH   |M     |\n",
      "+----------------------+------------------+-----+------+\n",
      "\n"
     ]
    }
   ],
   "source": [
    "# Using SQL col() function. Bu şekilde filter yapmak aklımda kalmaz\n",
    "\n",
    "from pyspark.sql.functions import col\n",
    "\n",
    "df.filter(col(\"state\") == \"OH\") \\\n",
    "    .show(truncate=False)"
   ]
  },
  {
   "cell_type": "code",
   "execution_count": 24,
   "id": "4bd4e9f3",
   "metadata": {},
   "outputs": [
    {
     "name": "stdout",
     "output_type": "stream",
     "text": [
      "+--------------------+------------------+-----+------+\n",
      "|                name|         languages|state|gender|\n",
      "+--------------------+------------------+-----+------+\n",
      "|    {James, , Smith}|[Java, Scala, C++]|   OH|     M|\n",
      "|{Maria, Anne, Jones}|      [CSharp, VB]|   NY|     M|\n",
      "|  {Jen, Mary, Brown}|      [CSharp, VB]|   NY|     M|\n",
      "|{Mike, Mary, Will...|      [Python, VB]|   OH|     M|\n",
      "+--------------------+------------------+-----+------+\n",
      "\n",
      "+-------------------+------------------+-----+------+\n",
      "|               name|         languages|state|gender|\n",
      "+-------------------+------------------+-----+------+\n",
      "|     {Anna, Rose, }|[Spark, Java, C++]|   NY|     F|\n",
      "|{Julia, , Williams}|      [CSharp, VB]|   OH|     F|\n",
      "+-------------------+------------------+-----+------+\n",
      "\n",
      "+-------------------+------------------+-----+------+\n",
      "|               name|         languages|state|gender|\n",
      "+-------------------+------------------+-----+------+\n",
      "|     {Anna, Rose, }|[Spark, Java, C++]|   NY|     F|\n",
      "|{Julia, , Williams}|      [CSharp, VB]|   OH|     F|\n",
      "+-------------------+------------------+-----+------+\n",
      "\n",
      "+-------------------+------------------+-----+------+\n",
      "|               name|         languages|state|gender|\n",
      "+-------------------+------------------+-----+------+\n",
      "|     {Anna, Rose, }|[Spark, Java, C++]|   NY|     F|\n",
      "|{Julia, , Williams}|      [CSharp, VB]|   OH|     F|\n",
      "+-------------------+------------------+-----+------+\n",
      "\n"
     ]
    }
   ],
   "source": [
    "# Bu şekildeki filter' larda güzel\n",
    "\n",
    "# Using SQL Expression\n",
    "\n",
    "df.filter(\"gender == 'M'\").show()\n",
    "\n",
    "df.filter('gender = \"F\"').show() # Veritabanı mantığıyla çalıştığı için tek = yeter.\n",
    "\n",
    "# For not equal\n",
    "\n",
    "df.filter(\"gender != 'M'\").show() # Eşit değil\n",
    "df.filter(\"gender <> 'M'\").show()"
   ]
  },
  {
   "cell_type": "code",
   "execution_count": 29,
   "id": "0509dc41",
   "metadata": {
    "scrolled": false
   },
   "outputs": [
    {
     "name": "stdout",
     "output_type": "stream",
     "text": [
      "+----------------------+------------------+-----+------+\n",
      "|name                  |languages         |state|gender|\n",
      "+----------------------+------------------+-----+------+\n",
      "|{James, , Smith}      |[Java, Scala, C++]|OH   |M     |\n",
      "|{Mike, Mary, Williams}|[Python, VB]      |OH   |M     |\n",
      "+----------------------+------------------+-----+------+\n",
      "\n",
      "+----------------------+------------------+-----+------+\n",
      "|name                  |languages         |state|gender|\n",
      "+----------------------+------------------+-----+------+\n",
      "|{James, , Smith}      |[Java, Scala, C++]|OH   |M     |\n",
      "|{Mike, Mary, Williams}|[Python, VB]      |OH   |M     |\n",
      "+----------------------+------------------+-----+------+\n",
      "\n",
      "\n",
      "\n",
      "\n",
      "+--------------------+------------+-----+------+\n",
      "|name                |languages   |state|gender|\n",
      "+--------------------+------------+-----+------+\n",
      "|{Maria, Anne, Jones}|[CSharp, VB]|NY   |M     |\n",
      "|{Jen, Mary, Brown}  |[CSharp, VB]|NY   |M     |\n",
      "+--------------------+------------+-----+------+\n",
      "\n"
     ]
    }
   ],
   "source": [
    "# Filter multiple condition. İlki kullanışlı değil ama ikincisi kullanışlı.\n",
    "\n",
    "df.filter( (df.state  == \"OH\") & (df.gender  == \"M\") ) \\\n",
    "    .show(truncate=False)\n",
    "\n",
    "df.filter(\"state = 'OH' and gender = 'M'\").show(truncate=False)\n",
    "\n",
    "print(\"\\n\\n\")\n",
    "\n",
    "# Bir tane değişken tanımlasam mesela ve ikincisinde kullansam. Aklıma belki ilkini kullanma yöntemleri dinamik\n",
    "# sorgular çekmektir.\n",
    "\n",
    "state = 'NY'\n",
    "gender = 'M'\n",
    "\n",
    "df.filter(f\"state = '{state}' and gender = '{gender}'\").show(truncate=False)"
   ]
  },
  {
   "cell_type": "code",
   "execution_count": 39,
   "id": "95fd4fbc",
   "metadata": {},
   "outputs": [
    {
     "name": "stdout",
     "output_type": "stream",
     "text": [
      "+--------------+\n",
      "|name.firstname|\n",
      "+--------------+\n",
      "|         James|\n",
      "|          Anna|\n",
      "|         Julia|\n",
      "|         Maria|\n",
      "|           Jen|\n",
      "|          Mike|\n",
      "+--------------+\n",
      "\n",
      "+----------------+------------------+-----+------+\n",
      "|            name|         languages|state|gender|\n",
      "+----------------+------------------+-----+------+\n",
      "|{James, , Smith}|[Java, Scala, C++]|   OH|     M|\n",
      "+----------------+------------------+-----+------+\n",
      "\n",
      "+--------------------+------------+-----+------+\n",
      "|                name|   languages|state|gender|\n",
      "+--------------------+------------+-----+------+\n",
      "|{Maria, Anne, Jones}|[CSharp, VB]|   NY|     M|\n",
      "+--------------------+------------+-----+------+\n",
      "\n"
     ]
    }
   ],
   "source": [
    "# Aklıma bir başka şey olarakta şu geldi: Neden name kolonunda ve languages kolonunda filter yapmamış.\n",
    "\n",
    "df.select(df['name']['firstname']).show()\n",
    "\n",
    "df.filter(df['name']['firstname'] == 'James').show()\n",
    "\n",
    "df.filter(\"name.firstname = 'Maria'\").show()\n",
    "\n",
    "# languages' ınkini denedim ama yapamadım."
   ]
  },
  {
   "cell_type": "code",
   "execution_count": 5,
   "id": "8bde1e32",
   "metadata": {},
   "outputs": [
    {
     "name": "stdout",
     "output_type": "stream",
     "text": [
      "+--------------------+------------------+-----+------+\n",
      "|                name|         languages|state|gender|\n",
      "+--------------------+------------------+-----+------+\n",
      "|    {James, , Smith}|[Java, Scala, C++]|   OH|     M|\n",
      "| {Julia, , Williams}|      [CSharp, VB]|   OH|     F|\n",
      "|{Mike, Mary, Will...|      [Python, VB]|   OH|     M|\n",
      "+--------------------+------------------+-----+------+\n",
      "\n",
      "+--------------------+------------------+-----+------+\n",
      "|                name|         languages|state|gender|\n",
      "+--------------------+------------------+-----+------+\n",
      "|    {James, , Smith}|[Java, Scala, C++]|   OH|     M|\n",
      "| {Julia, , Williams}|      [CSharp, VB]|   OH|     F|\n",
      "|{Maria, Anne, Jones}|      [CSharp, VB]|   NY|     M|\n",
      "+--------------------+------------------+-----+------+\n",
      "\n",
      "+--------------------+------------------+-----+------+\n",
      "|                name|         languages|state|gender|\n",
      "+--------------------+------------------+-----+------+\n",
      "|      {Anna, Rose, }|[Spark, Java, C++]|   NY|     F|\n",
      "|{Maria, Anne, Jones}|      [CSharp, VB]|   NY|     M|\n",
      "|  {Jen, Mary, Brown}|      [CSharp, VB]|   NY|     M|\n",
      "+--------------------+------------------+-----+------+\n",
      "\n",
      "+--------------------+------------------+-----+------+\n",
      "|                name|         languages|state|gender|\n",
      "+--------------------+------------------+-----+------+\n",
      "|      {Anna, Rose, }|[Spark, Java, C++]|   NY|     F|\n",
      "|{Maria, Anne, Jones}|      [CSharp, VB]|   NY|     M|\n",
      "|  {Jen, Mary, Brown}|      [CSharp, VB]|   NY|     M|\n",
      "+--------------------+------------------+-----+------+\n",
      "\n"
     ]
    }
   ],
   "source": [
    "# Veritabanlarındaki IN özelliği\n",
    "\n",
    "li = [\"OH\", \"CA\", \"DE\"]\n",
    "\n",
    "df.filter(df.state.isin(li)).show()\n",
    "\n",
    "li2 = ['James', 'Julia', 'Maria']\n",
    "\n",
    "df.filter(df.name.firstname.isin(li2)).show()\n",
    "\n",
    "df.filter(~df.state.isin(li)).show()\n",
    "df.filter(df.state.isin(li) == False).show()"
   ]
  },
  {
   "cell_type": "code",
   "execution_count": 49,
   "id": "54d5aee2",
   "metadata": {},
   "outputs": [
    {
     "name": "stdout",
     "output_type": "stream",
     "text": [
      "+--------------------+------------------+-----+------+\n",
      "|                name|         languages|state|gender|\n",
      "+--------------------+------------------+-----+------+\n",
      "|      {Anna, Rose, }|[Spark, Java, C++]|   NY|     F|\n",
      "|{Maria, Anne, Jones}|      [CSharp, VB]|   NY|     M|\n",
      "|  {Jen, Mary, Brown}|      [CSharp, VB]|   NY|     M|\n",
      "+--------------------+------------------+-----+------+\n",
      "\n",
      "+--------------------+------------------+-----+------+\n",
      "|                name|         languages|state|gender|\n",
      "+--------------------+------------------+-----+------+\n",
      "|    {James, , Smith}|[Java, Scala, C++]|   OH|     M|\n",
      "| {Julia, , Williams}|      [CSharp, VB]|   OH|     F|\n",
      "|{Mike, Mary, Will...|      [Python, VB]|   OH|     M|\n",
      "+--------------------+------------------+-----+------+\n",
      "\n",
      "+--------------------+------------------+-----+------+\n",
      "|                name|         languages|state|gender|\n",
      "+--------------------+------------------+-----+------+\n",
      "|    {James, , Smith}|[Java, Scala, C++]|   OH|     M|\n",
      "| {Julia, , Williams}|      [CSharp, VB]|   OH|     F|\n",
      "|{Mike, Mary, Will...|      [Python, VB]|   OH|     M|\n",
      "+--------------------+------------------+-----+------+\n",
      "\n"
     ]
    }
   ],
   "source": [
    "# Starts With, Ends With, Contains\n",
    "\n",
    "df.filter(df.state.startswith('N')).show()\n",
    "\n",
    "df.filter(df.state.endswith('H')).show()\n",
    "\n",
    "df.filter(df.state.contains('H')).show()"
   ]
  },
  {
   "cell_type": "code",
   "execution_count": 10,
   "id": "fe43c82d",
   "metadata": {},
   "outputs": [
    {
     "name": "stdout",
     "output_type": "stream",
     "text": [
      "+---+----------+\n",
      "| id|      name|\n",
      "+---+----------+\n",
      "|  5|Rames rose|\n",
      "+---+----------+\n",
      "\n",
      "+---+------------+\n",
      "| id|        name|\n",
      "+---+------------+\n",
      "|  2|Michael Rose|\n",
      "|  4|  Rames Rose|\n",
      "|  5|  Rames rose|\n",
      "+---+------------+\n",
      "\n"
     ]
    }
   ],
   "source": [
    "# like and rlike (regex like)\n",
    "\n",
    "data2 = [\n",
    "    (2,\"Michael Rose\"),\n",
    "    (3,\"Robert Williams\"),\n",
    "    (4,\"Rames Rose\"),\n",
    "    (5,\"Rames rose\")\n",
    "]\n",
    "\n",
    "df2 = spark.createDataFrame(data = data2, schema = [\"id\",\"name\"])\n",
    "\n",
    "# like - SQL LIKE pattern. Bunda doğrudan eşleşmesine bakıyor\n",
    "df2.filter(df2.name.like(\"%rose%\")).show()\n",
    "\n",
    "# Sanırım şu ?i ignore demek sanırım\n",
    "df2.filter(df2.name.rlike(\"(?i)^*rose$\")).show()"
   ]
  },
  {
   "cell_type": "code",
   "execution_count": 11,
   "id": "9cb56fff",
   "metadata": {},
   "outputs": [
    {
     "name": "stdout",
     "output_type": "stream",
     "text": [
      "+----------------+------------------+-----+------+\n",
      "|name            |languages         |state|gender|\n",
      "+----------------+------------------+-----+------+\n",
      "|{James, , Smith}|[Java, Scala, C++]|OH   |M     |\n",
      "|{Anna, Rose, }  |[Spark, Java, C++]|NY   |F     |\n",
      "+----------------+------------------+-----+------+\n",
      "\n"
     ]
    }
   ],
   "source": [
    "# Array column. Yukarıda languages ile ilgili bir arama yapamamıştım.\n",
    "\n",
    "from pyspark.sql.functions import array_contains\n",
    "\n",
    "\n",
    "df.filter(array_contains(df.languages,\"Java\")) \\\n",
    "    .show(truncate=False)"
   ]
  },
  {
   "cell_type": "code",
   "execution_count": null,
   "id": "444acb00",
   "metadata": {},
   "outputs": [],
   "source": [
    "\n",
    "\n",
    "\n",
    "\n",
    "\n",
    "\n",
    "\n",
    "\n",
    "\n",
    "\n",
    "\n",
    "\n",
    "\n",
    "\n",
    "\n",
    "\n",
    "\n",
    "\n",
    "\n",
    "\n",
    "\n",
    "\n",
    "\n",
    "\n",
    "\n",
    "\n",
    "\n",
    "\n",
    "\n",
    "\n",
    "\n",
    "\n",
    "\n",
    "\n",
    "\n"
   ]
  }
 ],
 "metadata": {
  "kernelspec": {
   "display_name": "etlPySpark",
   "language": "python",
   "name": "etlpyspark"
  },
  "language_info": {
   "codemirror_mode": {
    "name": "ipython",
    "version": 3
   },
   "file_extension": ".py",
   "mimetype": "text/x-python",
   "name": "python",
   "nbconvert_exporter": "python",
   "pygments_lexer": "ipython3",
   "version": "3.8.5"
  }
 },
 "nbformat": 4,
 "nbformat_minor": 5
}
