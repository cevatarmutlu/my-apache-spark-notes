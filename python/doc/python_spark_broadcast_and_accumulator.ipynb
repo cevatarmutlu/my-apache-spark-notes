{
 "metadata": {
  "language_info": {
   "codemirror_mode": {
    "name": "ipython",
    "version": 3
   },
   "file_extension": ".py",
   "mimetype": "text/x-python",
   "name": "python",
   "nbconvert_exporter": "python",
   "pygments_lexer": "ipython3",
   "version": "3.8.5-final"
  },
  "orig_nbformat": 2,
  "kernelspec": {
   "name": "python3",
   "display_name": "Python 3.8.5 64-bit",
   "metadata": {
    "interpreter": {
     "hash": "61ae6c78c72466e402ec741384b82d6dc43e44f60fc4ae906fe4e90ae9a3ad80"
    }
   }
  }
 },
 "nbformat": 4,
 "nbformat_minor": 2,
 "cells": [
  {
   "cell_type": "code",
   "execution_count": 1,
   "metadata": {},
   "outputs": [],
   "source": [
    "from findspark import init\n",
    "from pyspark import SparkContext\n",
    "init()\n",
    "sc = SparkContext(master=\"local\", appName=\"secondApp\")"
   ]
  },
  {
   "source": [
    "## Broadcast and Accumulator\n",
    "\n",
    "Spark verileri paralel olarak işlemek için shared variable kullanırmış. The driver, the cluster' daki the executor' a task gönderdiğinde shared variable the cluster' daki bütün node' lara kopyalanırmış.\n",
    "\n",
    "İki tür shared variable var.\n",
    "- Broadcast\n",
    "- Accumulator"
   ],
   "cell_type": "markdown",
   "metadata": {}
  },
  {
   "source": [
    "## Broadcast\n",
    "\n",
    "Broadcast değişkenler verinin kopyasını tüm node' larda kaydetmek için kullanılırmış. Broadcast değişken tüm makinelerde cache' te tutulurmuş ve task' ı olan makinelere gönderilmezmiş \\[Hiçbir şey anlamadım. Dahası örnekten de bir şey anlamadım\\].\n",
    "\n",
    " Broadcast değişkenlerin `value` adında atturibute' ü olurmuş. Bu attr sayesinde broadcast edilen değeri depolarmış. Aynı zamanda bu attr sayesinde broadcast edilen değerleri elde edermiş."
   ],
   "cell_type": "markdown",
   "metadata": {}
  },
  {
   "cell_type": "code",
   "execution_count": 3,
   "metadata": {},
   "outputs": [
    {
     "output_type": "stream",
     "name": "stdout",
     "text": [
      "Stored data -> ['scala', 'java', 'hadoop', 'spark', 'akka']\nPrinting a particular element in RDD -> hadoop\n"
     ]
    }
   ],
   "source": [
    "words_new = sc.broadcast([\"scala\", \"java\", \"hadoop\", \"spark\", \"akka\"]) \n",
    "data = words_new.value \n",
    "print(f\"Stored data -> {data}\")\n",
    "elem = words_new.value[2] \n",
    "print(f\"Printing a particular element in RDD -> {elem}\")"
   ]
  },
  {
   "source": [
    "## Accumulator\n",
    "\n",
    "Accumulator değişken associative ve commutative operation' lar aracılığıyla bilgileri toplamak için kullanılır.\n",
    "\n",
    "For example, you can use an accumulator for a sum operation or counters (in MapReduce).\n",
    "\n",
    "Accumulator' ın `value` adında broadcast' ın attr' si ile aynı vazifeyi yapan bir attr' si varmış. Lakin yalnızca the driver program kullanbilirmiş.\n",
    "\n",
    "\\[Yine bir şey anlamadım. Örnekten de anlamadım\\]"
   ],
   "cell_type": "markdown",
   "metadata": {}
  },
  {
   "cell_type": "code",
   "execution_count": 3,
   "metadata": {},
   "outputs": [
    {
     "output_type": "stream",
     "name": "stdout",
     "text": [
      "Accumulated value is -> 150\n"
     ]
    }
   ],
   "source": [
    "num = sc.accumulator(10)\n",
    "def f(x):\n",
    "   global num\n",
    "   num+=x\n",
    "rdd = sc.parallelize([20,30,40,50])\n",
    "rdd.foreach(f)\n",
    "final = num.value\n",
    "print(f\"Accumulated value is -> {final}\")"
   ]
  }
 ]
}