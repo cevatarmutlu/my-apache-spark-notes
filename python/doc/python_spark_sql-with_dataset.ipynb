{
 "metadata": {
  "language_info": {
   "codemirror_mode": {
    "name": "ipython",
    "version": 3
   },
   "file_extension": ".py",
   "mimetype": "text/x-python",
   "name": "python",
   "nbconvert_exporter": "python",
   "pygments_lexer": "ipython3",
   "version": "3.8.5-final"
  },
  "orig_nbformat": 2,
  "kernelspec": {
   "name": "python3",
   "display_name": "Python 3",
   "language": "python"
  }
 },
 "nbformat": 4,
 "nbformat_minor": 2,
 "cells": [
  {
   "cell_type": "code",
   "execution_count": 2,
   "metadata": {},
   "outputs": [],
   "source": [
    "from findspark import init\n",
    "from pyspark.sql import SparkSession"
   ]
  },
  {
   "cell_type": "code",
   "execution_count": 3,
   "metadata": {},
   "outputs": [],
   "source": [
    "ss = SparkSession.builder.getOrCreate()"
   ]
  },
  {
   "cell_type": "code",
   "execution_count": 4,
   "metadata": {},
   "outputs": [],
   "source": [
    "dataset_path = \"/home/cevat/workspace/apache-spark-notlarim/datasets/Video_Games_Sales_as_at_22_Dec_2016.csv\" # datasets/dataset1.csv bu dosya yolu hata veriyor\n",
    "dataset = ss.read.format(\"csv\").option(\"header\", \"true\").load(path=dataset_path)"
   ]
  },
  {
   "cell_type": "code",
   "execution_count": 55,
   "metadata": {},
   "outputs": [
    {
     "output_type": "execute_result",
     "data": {
      "text/plain": [
       "[Row(Platform='PS2', count=2161),\n",
       " Row(Platform='DS', count=2152),\n",
       " Row(Platform='PS3', count=1331),\n",
       " Row(Platform='Wii', count=1320),\n",
       " Row(Platform='X360', count=1262),\n",
       " Row(Platform='PSP', count=1209),\n",
       " Row(Platform='PS', count=1197),\n",
       " Row(Platform='PC', count=974),\n",
       " Row(Platform='XB', count=824),\n",
       " Row(Platform='GBA', count=822),\n",
       " Row(Platform='GC', count=556),\n",
       " Row(Platform='3DS', count=520),\n",
       " Row(Platform='PSV', count=432),\n",
       " Row(Platform='PS4', count=393),\n",
       " Row(Platform='N64', count=319),\n",
       " Row(Platform='XOne', count=247),\n",
       " Row(Platform='SNES', count=239),\n",
       " Row(Platform='SAT', count=173),\n",
       " Row(Platform='WiiU', count=147),\n",
       " Row(Platform='2600', count=133),\n",
       " Row(Platform='NES', count=98),\n",
       " Row(Platform='GB', count=98),\n",
       " Row(Platform='DC', count=52),\n",
       " Row(Platform='GEN', count=29),\n",
       " Row(Platform='NG', count=12),\n",
       " Row(Platform='SCD', count=6),\n",
       " Row(Platform='WS', count=6),\n",
       " Row(Platform='3DO', count=3),\n",
       " Row(Platform='TG16', count=2),\n",
       " Row(Platform='PCFX', count=1),\n",
       " Row(Platform='GG', count=1)]"
      ]
     },
     "metadata": {},
     "execution_count": 55
    }
   ],
   "source": [
    "dataset.groupBy(\"Platform\").count().orderBy(\"count\", ascending=False).collect()"
   ]
  },
  {
   "cell_type": "code",
   "execution_count": 57,
   "metadata": {},
   "outputs": [
    {
     "output_type": "execute_result",
     "data": {
      "text/plain": [
       "[Row(Platform='3DO', sum(NA_Sales)=0.0),\n",
       " Row(Platform='PC', sum(NA_Sales)=94.53000000000029),\n",
       " Row(Platform='PS3', sum(NA_Sales)=393.48999999999995),\n",
       " Row(Platform='NES', sum(NA_Sales)=125.94000000000005),\n",
       " Row(Platform='PS', sum(NA_Sales)=336.519999999998),\n",
       " Row(Platform='DC', sum(NA_Sales)=5.43),\n",
       " Row(Platform='GEN', sum(NA_Sales)=21.049999999999997),\n",
       " Row(Platform='PS2', sum(NA_Sales)=583.8399999999925),\n",
       " Row(Platform='3DS', sum(NA_Sales)=83.48999999999992),\n",
       " Row(Platform='PCFX', sum(NA_Sales)=0.0),\n",
       " Row(Platform='GG', sum(NA_Sales)=0.0),\n",
       " Row(Platform='WiiU', sum(NA_Sales)=38.10000000000003),\n",
       " Row(Platform='SNES', sum(NA_Sales)=61.22999999999998),\n",
       " Row(Platform='GB', sum(NA_Sales)=114.32000000000001),\n",
       " Row(Platform='SCD', sum(NA_Sales)=1.0),\n",
       " Row(Platform='N64', sum(NA_Sales)=139.02000000000015),\n",
       " Row(Platform='PS4', sum(NA_Sales)=108.7400000000001),\n",
       " Row(Platform='PSP', sum(NA_Sales)=109.1699999999998),\n",
       " Row(Platform='2600', sum(NA_Sales)=90.59999999999992),\n",
       " Row(Platform='XOne', sum(NA_Sales)=93.12000000000005),\n",
       " Row(Platform='X360', sum(NA_Sales)=602.4699999999993),\n",
       " Row(Platform='GBA', sum(NA_Sales)=187.54000000000033),\n",
       " Row(Platform='WS', sum(NA_Sales)=0.0),\n",
       " Row(Platform='Wii', sum(NA_Sales)=496.8999999999991),\n",
       " Row(Platform='GC', sum(NA_Sales)=133.46000000000004),\n",
       " Row(Platform='PSV', sum(NA_Sales)=12.579999999999973),\n",
       " Row(Platform='XB', sum(NA_Sales)=186.6900000000008),\n",
       " Row(Platform='DS', sum(NA_Sales)=382.6699999999979),\n",
       " Row(Platform='TG16', sum(NA_Sales)=0.0),\n",
       " Row(Platform='NG', sum(NA_Sales)=0.0),\n",
       " Row(Platform='SAT', sum(NA_Sales)=0.7200000000000001)]"
      ]
     },
     "metadata": {},
     "execution_count": 57
    }
   ],
   "source": [
    "from pyspark.sql import functions as f\n",
    "dataset.groupBy(\"Platform\").agg(f.sum(\"NA_Sales\")).collect()\n",
    "# dataset.groupBy(\"Platform\").sum(\"NA_Sales\").collect() hata veriyor. Aynı şeyi yaptığımı düşünüyorum ama nedense hata veriyor. NA_Sales numeric kolon değil diyor"
   ]
  },
  {
   "cell_type": "code",
   "execution_count": 58,
   "metadata": {},
   "outputs": [
    {
     "output_type": "execute_result",
     "data": {
      "text/plain": [
       "[Row(NA_Sales='0'), Row(NA_Sales='0'), Row(NA_Sales='0')]"
      ]
     },
     "metadata": {},
     "execution_count": 58
    }
   ],
   "source": [
    "dataset.filter(\"Platform == '3DO'\").select(\"NA_Sales\").collect() # 3DO platformunda çıkan oyunların Amerikadaki satış rakamları ya da elde ettiği kar"
   ]
  }
 ]
}